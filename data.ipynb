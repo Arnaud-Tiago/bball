{
 "cells": [
  {
   "cell_type": "code",
   "execution_count": 1,
   "metadata": {},
   "outputs": [],
   "source": [
    "import pandas as pd\n",
    "import numpy as np\n",
    "\n",
    "from data import load_data, save_data, increment_league_df\n",
    "from games import fetch_game_json, fetch_other_games_league\n",
    "from params import BACTH_SIZE\n",
    "\n",
    "%load_ext autoreload\n",
    "%autoreload 2"
   ]
  },
  {
   "cell_type": "code",
   "execution_count": 5,
   "metadata": {},
   "outputs": [
    {
     "name": "stdout",
     "output_type": "stream",
     "text": [
      "Table last_indices successfully loaded from basket-ao-bucket/last_indices.\n"
     ]
    },
    {
     "data": {
      "text/html": [
       "<div>\n",
       "<style scoped>\n",
       "    .dataframe tbody tr th:only-of-type {\n",
       "        vertical-align: middle;\n",
       "    }\n",
       "\n",
       "    .dataframe tbody tr th {\n",
       "        vertical-align: top;\n",
       "    }\n",
       "\n",
       "    .dataframe thead th {\n",
       "        text-align: right;\n",
       "    }\n",
       "</style>\n",
       "<table border=\"1\" class=\"dataframe\">\n",
       "  <thead>\n",
       "    <tr style=\"text-align: right;\">\n",
       "      <th></th>\n",
       "      <th>table</th>\n",
       "      <th>last_scraped_index</th>\n",
       "    </tr>\n",
       "  </thead>\n",
       "  <tbody>\n",
       "    <tr>\n",
       "      <th>0</th>\n",
       "      <td>all_fiba_games</td>\n",
       "      <td>800000</td>\n",
       "    </tr>\n",
       "    <tr>\n",
       "      <th>1</th>\n",
       "      <td>league</td>\n",
       "      <td>1798110</td>\n",
       "    </tr>\n",
       "  </tbody>\n",
       "</table>\n",
       "</div>"
      ],
      "text/plain": [
       "            table  last_scraped_index\n",
       "0  all_fiba_games              800000\n",
       "1          league             1798110"
      ]
     },
     "execution_count": 5,
     "metadata": {},
     "output_type": "execute_result"
    }
   ],
   "source": [
    "ll_df = load_data(table_name= 'last_indices',provenance='cloud')\n",
    "ll_df"
   ]
  },
  {
   "cell_type": "code",
   "execution_count": 4,
   "metadata": {},
   "outputs": [
    {
     "name": "stdout",
     "output_type": "stream",
     "text": [
      "Table last_indices successfully saved on the cloud at basket-ao-bucket/last_indices\n"
     ]
    }
   ],
   "source": [
    "save_data(ll_df,'last_indices','cloud')"
   ]
  },
  {
   "cell_type": "code",
   "execution_count": 75,
   "metadata": {},
   "outputs": [
    {
     "name": "stdout",
     "output_type": "stream",
     "text": [
      "Table all_fiba_games successfully loaded from basket-ao-bucket/all_fiba_games.\n",
      "Table all_fiba_games successfully saved locally on /home/arnaud/.basket_project/data/all_fiba_games.csv\n"
     ]
    }
   ],
   "source": [
    "g_df = load_data(table_name= 'all_fiba_games',provenance='cloud')\n",
    "\n",
    "copy_to_local = False\n",
    "\n",
    "if copy_to_local :\n",
    "    save_data(g_df,table_name='all_fiba_games',destination='local')"
   ]
  },
  {
   "cell_type": "code",
   "execution_count": 76,
   "metadata": {},
   "outputs": [
    {
     "name": "stdout",
     "output_type": "stream",
     "text": [
      "Table league successfully loaded from basket-ao-bucket/league.\n",
      "Table league successfully saved locally on /home/arnaud/.basket_project/data/league.csv\n"
     ]
    }
   ],
   "source": [
    "l_df = load_data(table_name= 'league',provenance='cloud')\n",
    "\n",
    "copy_to_local = False\n",
    "if copy_to_local :\n",
    "    save_data(l_df,table_name='league',destination='local')"
   ]
  },
  {
   "cell_type": "code",
   "execution_count": 79,
   "metadata": {},
   "outputs": [
    {
     "data": {
      "text/html": [
       "<div>\n",
       "<style scoped>\n",
       "    .dataframe tbody tr th:only-of-type {\n",
       "        vertical-align: middle;\n",
       "    }\n",
       "\n",
       "    .dataframe tbody tr th {\n",
       "        vertical-align: top;\n",
       "    }\n",
       "\n",
       "    .dataframe thead th {\n",
       "        text-align: right;\n",
       "    }\n",
       "</style>\n",
       "<table border=\"1\" class=\"dataframe\">\n",
       "  <thead>\n",
       "    <tr style=\"text-align: right;\">\n",
       "      <th></th>\n",
       "      <th>id</th>\n",
       "      <th>competition</th>\n",
       "    </tr>\n",
       "  </thead>\n",
       "  <tbody>\n",
       "    <tr>\n",
       "      <th>0</th>\n",
       "      <td>1702008</td>\n",
       "      <td>2020 Men's League Championship Season</td>\n",
       "    </tr>\n",
       "    <tr>\n",
       "      <th>1</th>\n",
       "      <td>1702030</td>\n",
       "      <td>2020 Men's League Championship Season</td>\n",
       "    </tr>\n",
       "    <tr>\n",
       "      <th>2</th>\n",
       "      <td>1702047</td>\n",
       "      <td>2020 Men's League Championship Season</td>\n",
       "    </tr>\n",
       "    <tr>\n",
       "      <th>3</th>\n",
       "      <td>1702033</td>\n",
       "      <td>2020 Men's League Championship Season</td>\n",
       "    </tr>\n",
       "    <tr>\n",
       "      <th>4</th>\n",
       "      <td>1702004</td>\n",
       "      <td>2020 Men's League Championship Season</td>\n",
       "    </tr>\n",
       "  </tbody>\n",
       "</table>\n",
       "</div>"
      ],
      "text/plain": [
       "        id                            competition\n",
       "0  1702008  2020 Men's League Championship Season\n",
       "1  1702030  2020 Men's League Championship Season\n",
       "2  1702047  2020 Men's League Championship Season\n",
       "3  1702033  2020 Men's League Championship Season\n",
       "4  1702004  2020 Men's League Championship Season"
      ]
     },
     "execution_count": 79,
     "metadata": {},
     "output_type": "execute_result"
    }
   ],
   "source": [
    "l_df.head()"
   ]
  },
  {
   "cell_type": "code",
   "execution_count": 80,
   "metadata": {},
   "outputs": [
    {
     "data": {
      "text/html": [
       "<div>\n",
       "<style scoped>\n",
       "    .dataframe tbody tr th:only-of-type {\n",
       "        vertical-align: middle;\n",
       "    }\n",
       "\n",
       "    .dataframe tbody tr th {\n",
       "        vertical-align: top;\n",
       "    }\n",
       "\n",
       "    .dataframe thead th {\n",
       "        text-align: right;\n",
       "    }\n",
       "</style>\n",
       "<table border=\"1\" class=\"dataframe\">\n",
       "  <thead>\n",
       "    <tr style=\"text-align: right;\">\n",
       "      <th></th>\n",
       "      <th>id</th>\n",
       "      <th>url</th>\n",
       "      <th>home</th>\n",
       "      <th>away</th>\n",
       "    </tr>\n",
       "  </thead>\n",
       "  <tbody>\n",
       "    <tr>\n",
       "      <th>0</th>\n",
       "      <td>1701860</td>\n",
       "      <td>https://livestats.dcd.shared.geniussports.com/...</td>\n",
       "      <td>Razzle</td>\n",
       "      <td>Ansett</td>\n",
       "    </tr>\n",
       "    <tr>\n",
       "      <th>1</th>\n",
       "      <td>1701861</td>\n",
       "      <td>https://livestats.dcd.shared.geniussports.com/...</td>\n",
       "      <td>Razzle</td>\n",
       "      <td>Ansett</td>\n",
       "    </tr>\n",
       "    <tr>\n",
       "      <th>2</th>\n",
       "      <td>1701862</td>\n",
       "      <td>https://livestats.dcd.shared.geniussports.com/...</td>\n",
       "      <td>TV Jets</td>\n",
       "      <td>Ansett</td>\n",
       "    </tr>\n",
       "    <tr>\n",
       "      <th>3</th>\n",
       "      <td>1701863</td>\n",
       "      <td>https://livestats.dcd.shared.geniussports.com/...</td>\n",
       "      <td>TV Jets</td>\n",
       "      <td>Ansett</td>\n",
       "    </tr>\n",
       "    <tr>\n",
       "      <th>4</th>\n",
       "      <td>1701865</td>\n",
       "      <td>https://livestats.dcd.shared.geniussports.com/...</td>\n",
       "      <td>Lightning</td>\n",
       "      <td>Ansett</td>\n",
       "    </tr>\n",
       "  </tbody>\n",
       "</table>\n",
       "</div>"
      ],
      "text/plain": [
       "        id                                                url       home  \\\n",
       "0  1701860  https://livestats.dcd.shared.geniussports.com/...     Razzle   \n",
       "1  1701861  https://livestats.dcd.shared.geniussports.com/...     Razzle   \n",
       "2  1701862  https://livestats.dcd.shared.geniussports.com/...    TV Jets   \n",
       "3  1701863  https://livestats.dcd.shared.geniussports.com/...    TV Jets   \n",
       "4  1701865  https://livestats.dcd.shared.geniussports.com/...  Lightning   \n",
       "\n",
       "     away  \n",
       "0  Ansett  \n",
       "1  Ansett  \n",
       "2  Ansett  \n",
       "3  Ansett  \n",
       "4  Ansett  "
      ]
     },
     "execution_count": 80,
     "metadata": {},
     "output_type": "execute_result"
    }
   ],
   "source": [
    "g_df.head()"
   ]
  },
  {
   "cell_type": "code",
   "execution_count": 84,
   "metadata": {},
   "outputs": [
    {
     "data": {
      "text/plain": [
       "831990"
      ]
     },
     "execution_count": 84,
     "metadata": {},
     "output_type": "execute_result"
    }
   ],
   "source": [
    "c_df = pd.merge(g_df,l_df,how = 'outer', on='id')\n",
    "c_df['id'].min()"
   ]
  },
  {
   "cell_type": "code",
   "execution_count": 77,
   "metadata": {},
   "outputs": [
    {
     "name": "stdout",
     "output_type": "stream",
     "text": [
      "Number of leagues identified : 379\n",
      "Number of games with league identified : 10 177\n"
     ]
    },
    {
     "data": {
      "text/html": [
       "<div>\n",
       "<style scoped>\n",
       "    .dataframe tbody tr th:only-of-type {\n",
       "        vertical-align: middle;\n",
       "    }\n",
       "\n",
       "    .dataframe tbody tr th {\n",
       "        vertical-align: top;\n",
       "    }\n",
       "\n",
       "    .dataframe thead th {\n",
       "        text-align: right;\n",
       "    }\n",
       "</style>\n",
       "<table border=\"1\" class=\"dataframe\">\n",
       "  <thead>\n",
       "    <tr style=\"text-align: right;\">\n",
       "      <th></th>\n",
       "      <th>competition</th>\n",
       "    </tr>\n",
       "  </thead>\n",
       "  <tbody>\n",
       "    <tr>\n",
       "      <th>Bリーグ 2020-21 B1リーグ戦</th>\n",
       "      <td>753</td>\n",
       "    </tr>\n",
       "    <tr>\n",
       "      <th>Bリーグ 2020-21 B2リーグ戦</th>\n",
       "      <td>552</td>\n",
       "    </tr>\n",
       "    <tr>\n",
       "      <th>2 Liga Mężczyzn</th>\n",
       "      <td>525</td>\n",
       "    </tr>\n",
       "    <tr>\n",
       "      <th>NATIONALE MASCULINE 1</th>\n",
       "      <td>266</td>\n",
       "    </tr>\n",
       "    <tr>\n",
       "      <th>Serie A2 Femminile</th>\n",
       "      <td>254</td>\n",
       "    </tr>\n",
       "    <tr>\n",
       "      <th>LNB - PROB</th>\n",
       "      <td>226</td>\n",
       "    </tr>\n",
       "    <tr>\n",
       "      <th>Suzuki 1 Liga Mężczyzn</th>\n",
       "      <td>215</td>\n",
       "    </tr>\n",
       "    <tr>\n",
       "      <th>LNB - JeepElite</th>\n",
       "      <td>206</td>\n",
       "    </tr>\n",
       "    <tr>\n",
       "      <th>1 Liga Kobiet</th>\n",
       "      <td>171</td>\n",
       "    </tr>\n",
       "    <tr>\n",
       "      <th>Energa Basket Liga</th>\n",
       "      <td>161</td>\n",
       "    </tr>\n",
       "    <tr>\n",
       "      <th>Miesten I divisioona B</th>\n",
       "      <td>160</td>\n",
       "    </tr>\n",
       "    <tr>\n",
       "      <th>ББЛ А група</th>\n",
       "      <td>144</td>\n",
       "    </tr>\n",
       "    <tr>\n",
       "      <th>NKL (Nacionalinė krepšinio lyga)</th>\n",
       "      <td>132</td>\n",
       "    </tr>\n",
       "    <tr>\n",
       "      <th>Молодежный чемпионат ВТБ 2020/21</th>\n",
       "      <td>129</td>\n",
       "    </tr>\n",
       "    <tr>\n",
       "      <th>Serie A1 Femminile</th>\n",
       "      <td>124</td>\n",
       "    </tr>\n",
       "    <tr>\n",
       "      <th>Korisliiga</th>\n",
       "      <td>124</td>\n",
       "    </tr>\n",
       "    <tr>\n",
       "      <th>Miesten I divisioona A</th>\n",
       "      <td>116</td>\n",
       "    </tr>\n",
       "    <tr>\n",
       "      <th>Košarkaška liga Srbije</th>\n",
       "      <td>116</td>\n",
       "    </tr>\n",
       "    <tr>\n",
       "      <th>Tippmix Férfi NB I, A csoport 2020/2021</th>\n",
       "      <td>114</td>\n",
       "    </tr>\n",
       "    <tr>\n",
       "      <th>Energa Basket Liga Kobiet</th>\n",
       "      <td>110</td>\n",
       "    </tr>\n",
       "  </tbody>\n",
       "</table>\n",
       "</div>"
      ],
      "text/plain": [
       "                                         competition\n",
       "Bリーグ 2020-21 B1リーグ戦                              753\n",
       "Bリーグ 2020-21 B2リーグ戦                              552\n",
       "2 Liga Mężczyzn                                  525\n",
       "NATIONALE MASCULINE 1                            266\n",
       "Serie A2 Femminile                               254\n",
       "LNB - PROB                                       226\n",
       "Suzuki 1 Liga Mężczyzn                           215\n",
       "LNB - JeepElite                                  206\n",
       "1 Liga Kobiet                                    171\n",
       "Energa Basket Liga                               161\n",
       "Miesten I divisioona B                           160\n",
       "ББЛ А група                                      144\n",
       "NKL (Nacionalinė krepšinio lyga)                 132\n",
       "Молодежный чемпионат ВТБ 2020/21                 129\n",
       "Serie A1 Femminile                               124\n",
       "Korisliiga                                       124\n",
       "Miesten I divisioona A                           116\n",
       "Košarkaška liga Srbije                           116\n",
       "Tippmix Férfi NB I, A csoport 2020/2021          114\n",
       "Energa Basket Liga Kobiet                        110"
      ]
     },
     "execution_count": 77,
     "metadata": {},
     "output_type": "execute_result"
    }
   ],
   "source": [
    "print(f\"Number of leagues identified : {l_df['competition'].nunique():_}\".replace('_',' '))\n",
    "print(f\"Number of games with league identified : {l_df.shape[0]:_}\".replace('_',' '))\n",
    "pd.DataFrame(l_df['competition'].value_counts()).head(20)"
   ]
  }
 ],
 "metadata": {
  "kernelspec": {
   "display_name": "Python 3",
   "language": "python",
   "name": "python3"
  },
  "language_info": {
   "codemirror_mode": {
    "name": "ipython",
    "version": 3
   },
   "file_extension": ".py",
   "mimetype": "text/x-python",
   "name": "python",
   "nbconvert_exporter": "python",
   "pygments_lexer": "ipython3",
   "version": "3.10.6"
  },
  "orig_nbformat": 4,
  "vscode": {
   "interpreter": {
    "hash": "79956488f5b85b3e124e2e76162f2dd546af42843d9be7c199947b0ae48c2851"
   }
  }
 },
 "nbformat": 4,
 "nbformat_minor": 2
}
